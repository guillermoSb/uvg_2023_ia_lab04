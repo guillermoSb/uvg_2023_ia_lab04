{
 "cells": [
  {
   "cell_type": "markdown",
   "id": "b95a071b",
   "metadata": {},
   "source": [
    "# Laboratorio 04 - Regresión Logística"
   ]
  },
  {
   "cell_type": "markdown",
   "id": "b1da795d",
   "metadata": {},
   "source": [
    "## Task 1.1 - Cargar CSV"
   ]
  },
  {
   "cell_type": "code",
   "execution_count": 1,
   "id": "050c931a",
   "metadata": {},
   "outputs": [],
   "source": [
    "import numpy as np\n",
    "import matplotlib.pyplot as plt\n",
    "%matplotlib inline\n",
    "import Regression as reg"
   ]
  },
  {
   "cell_type": "code",
   "execution_count": 3,
   "id": "a212a5ba",
   "metadata": {},
   "outputs": [],
   "source": [
    "# Cargar datos del CSV\n",
    "clean_data = np.genfromtxt('data.csv', delimiter=',',usecols=(0,1,4,5,7,8,9,10,11,14,15), skip_header=True)\n",
    "# Limpiar la data con NA \n",
    "mean = np.nanmean(clean_data, axis=0)\t# Calcular la media por cada columna\n",
    "nan_indices = np.where(np.isnan(clean_data))\n",
    "clean_data[nan_indices] = 0"
   ]
  },
  {
   "cell_type": "code",
   "execution_count": 4,
   "id": "ad6f8e95",
   "metadata": {},
   "outputs": [],
   "source": [
    "# Establecer semilla\n",
    "np.random.seed(4)"
   ]
  },
  {
   "cell_type": "code",
   "execution_count": 5,
   "id": "3a0e6d0a",
   "metadata": {},
   "outputs": [],
   "source": [
    "# Randomizar la data\n",
    "np.random.shuffle(clean_data)"
   ]
  },
  {
   "cell_type": "code",
   "execution_count": 6,
   "id": "51e6b9cf",
   "metadata": {},
   "outputs": [],
   "source": [
    "# Normalizar valores\n",
    "for i in range(clean_data.shape[1] - 1):\n",
    "\tclean_data[:, i] = (clean_data[:, i] - np.mean(clean_data[:, i])) / np.std(clean_data[:, i])"
   ]
  },
  {
   "cell_type": "markdown",
   "id": "2d7aba19",
   "metadata": {},
   "source": [
    "## Task 2.2 - Ajustar un modelo logistico plinomial"
   ]
  },
  {
   "cell_type": "markdown",
   "id": "0c767494",
   "metadata": {},
   "source": [
    "### Modelo con una feature polinomial: edad"
   ]
  },
  {
   "cell_type": "code",
   "execution_count": 8,
   "id": "af7c7638",
   "metadata": {},
   "outputs": [
    {
     "name": "stdout",
     "output_type": "stream",
     "text": [
      "[-0.53492781  1.5651408  -1.46829164 ... -0.88493925  0.63177697\n",
      "  0.86511793]\n"
     ]
    }
   ],
   "source": [
    "data = clean_data\n",
    "# Agregar bias y features\n",
    "ages = data[:,1]\n",
    "data = np.hstack((np.ones((data.shape[0], 1)), data))\t# 1\n",
    "data = np.hstack((ages.reshape(data.shape[0], 1), data))\t# 0\n",
    "\n",
    "train_data = data[:int(0.4*len(data))]\n",
    "cv_data = data[int(0.4*len(data)):int(0.8*len(data))]\n",
    "test_data = data[int(0.8*len(data)):]"
   ]
  },
  {
   "cell_type": "code",
   "execution_count": null,
   "id": "7485117e",
   "metadata": {},
   "outputs": [],
   "source": [
    "train_losses = []\n",
    "cv_losses = []\n",
    "\n",
    "for k in range(1,4):\n",
    "\t# Replace column 0 with the column 3 to the power of k\n",
    "\ttrain_data[:,0] = train_data[:,7] ** k\n",
    "\tcv_data[:,0] = cv_data[:,7] ** k\n",
    "\t\n",
    "\tX_train = train_data[:, :-1]\n",
    "\ty_train = train_data[:, -1]\n",
    "\ty_train = y_train.reshape(y_train.shape[0], 1)\n",
    "\t\n",
    "\ttheta = np.ones((X_train.shape[1], 1))\n",
    "\ttheta = reg.linear_regression(X_train, y_train, theta, 0.03, 0.002)\n",
    "\t# J for training data\n",
    "\ty_pred_train = reg.sigmoid(theta, X_train)\n",
    "\ty_pred_train = np.where(y_pred_train > 0.5, 1, 0)\n",
    "\tloss_train = reg.loss(X_train, y_train, theta)\n",
    "\ttrain_losses.append(loss_train)\n",
    "\t# J for cross validation data\n",
    "\tX_cv = cv_data[:, :-1]\n",
    "\ty_cv = cv_data[:, -1]\n",
    "\ty_cv = y_cv.reshape(y_cv.shape[0], 1)\n",
    "\ty_pred_cv = reg.sigmoid(theta, X_cv)\n",
    "\ty_pred_cv = np.where(y_pred_cv > 0.5, 1, 0)\n",
    "\tloss_cv = reg.loss(X_cv, y_cv, theta)\n",
    "\tcv_losses.append(loss_cv)\n",
    "plt.plot(train_losses, label='Training Loss')\n",
    "plt.plot(cv_losses, label='Validation Loss')\n",
    "plt.legend()\n",
    "plt.xlabel(\"Iterations\")\n",
    "plt.show()"
   ]
  },
  {
   "cell_type": "markdown",
   "id": "02427bc4",
   "metadata": {},
   "source": [
    "### Modelo con dos features polinomiales: edad y cigarros"
   ]
  },
  {
   "cell_type": "code",
   "execution_count": null,
   "id": "2dfc3b99",
   "metadata": {},
   "outputs": [],
   "source": [
    "data = clean_data\n",
    "# Agregar bias y features\n",
    "ages = data[:,1]\n",
    "cigs = data[:,2]\n",
    "data = np.hstack((np.ones((data.shape[0], 1)), data))\t# 4\n",
    "data = np.hstack((ages.reshape(data.shape[0], 1), data))\t# 3\n",
    "data = np.hstack((ages.reshape(data.shape[0], 1), data))\t# 1\n",
    "data = np.hstack((cigs.reshape(data.shape[0], 1), data))\t# 1\n",
    "data = np.hstack((cigs.reshape(data.shape[0], 1), data))\t# 0\n",
    "\n",
    "train_data = data[:int(0.4*len(data))]\n",
    "cv_data = data[int(0.4*len(data)):int(0.8*len(data))]\n",
    "test_data = data[int(0.8*len(data)):]\n",
    "\n",
    "for k in range(1,5):\n",
    "    # Replace column 0 with the column 3 to the power of k\n",
    "\ttrain_data[:,0] = train_data[:,7] ** k-1\n",
    "\ttrain_data[:,1] = train_data[:,7] ** max(0, k-1)\n",
    "\ttrain_data[:,2] = train_data[:,6] ** max(0, k)\n",
    "\ttrain_data[:,3] = train_data[:,6] ** max(0, k-3)\n",
    "\n",
    "\t\n",
    "\tcv_data[:,0] = cv_data[:,7] ** k-1\n",
    "\tcv_data[:,1] = cv_data[:,7] ** max(0, k-1)\n",
    "\tcv_data[:,2] = cv_data[:,6] ** max(0, k)\n",
    "\tcv_data[:,3] = cv_data[:,6] ** max(0, k-3)\n",
    "\t\n",
    "\n",
    "\tX_train = train_data[:, :-1]\n",
    "\ty_train = train_data[:, -1]\n",
    "\ty_train = y_train.reshape(y_train.shape[0], 1)\n",
    "\n",
    "\t\n",
    "\ttheta = np.ones((X_train.shape[1], 1))\n",
    "\ttheta = reg.linear_regression(X_train, y_train, theta, 0.03, 0.002)\n",
    "\t# J for training data\n",
    "\ty_pred_train = reg.sigmoid(theta, X_train)\n",
    "\ty_pred_train = np.where(y_pred_train > 0.5, 1, 0)\n",
    "\tloss_train = reg.loss(X_train, y_train, theta)\n",
    "\ttrain_losses.append(loss_train)\n",
    "\n",
    "\t# J for cross validation data\n",
    "\tX_cv = cv_data[:, :-1]\n",
    "\ty_cv = cv_data[:, -1]\n",
    "\ty_cv = y_cv.reshape(y_cv.shape[0], 1)\n",
    "\ty_pred_cv = reg.sigmoid(theta, X_cv)\n",
    "\ty_pred_cv = np.where(y_pred_cv > 0.5, 1, 0)\n",
    "\tloss_cv = reg.loss(X_cv, y_cv, theta)\n",
    "\tcv_losses.append(loss_cv)\n",
    "plt.plot(train_losses, label='Training Loss')\n",
    "plt.plot(cv_losses, label='Validation Loss')\n",
    "plt.legend()\n",
    "plt.xlabel(\"Iterations\")\n",
    "plt.show()"
   ]
  }
 ],
 "metadata": {
  "kernelspec": {
   "display_name": "Python 3 (ipykernel)",
   "language": "python",
   "name": "python3"
  },
  "language_info": {
   "codemirror_mode": {
    "name": "ipython",
    "version": 3
   },
   "file_extension": ".py",
   "mimetype": "text/x-python",
   "name": "python",
   "nbconvert_exporter": "python",
   "pygments_lexer": "ipython3",
   "version": "3.11.2"
  }
 },
 "nbformat": 4,
 "nbformat_minor": 5
}
