{
 "cells": [
  {
   "cell_type": "markdown",
   "id": "b95a071b",
   "metadata": {},
   "source": [
    "# Laboratorio 04 - Regresión Logística"
   ]
  },
  {
   "cell_type": "markdown",
   "id": "b1da795d",
   "metadata": {},
   "source": [
    "## Task 1.1 - Cargar CSV"
   ]
  },
  {
   "cell_type": "code",
   "execution_count": 1,
   "id": "050c931a",
   "metadata": {},
   "outputs": [],
   "source": [
    "import numpy as np\n",
    "import matplotlib.pyplot as plt\n",
    "%matplotlib inline\n",
    "import Regression as reg"
   ]
  },
  {
   "cell_type": "code",
   "execution_count": 2,
   "id": "a212a5ba",
   "metadata": {},
   "outputs": [],
   "source": [
    "# Cargar datos del CSV\n",
    "data = np.genfromtxt('framingham.csv', delimiter=',',usecols=(0,1,4,5,7,8,9,10,11,14,15), skip_header=True)\n",
    "# Limpiar la data con NA \n",
    "mean = np.nanmean(data, axis=0)\t# Calcular la media por cada columna\n",
    "nan_indices = np.where(np.isnan(data))\n",
    "data[nan_indices] = np.take(mean, nan_indices[1])\t# Reemplazar valores con la media"
   ]
  },
  {
   "cell_type": "code",
   "execution_count": 3,
   "id": "ad6f8e95",
   "metadata": {},
   "outputs": [],
   "source": [
    "# Establecer semilla\n",
    "np.random.seed(0)"
   ]
  },
  {
   "cell_type": "code",
   "execution_count": 4,
   "id": "3a0e6d0a",
   "metadata": {},
   "outputs": [],
   "source": [
    "# Randomizar la data\n",
    "np.random.shuffle(data)"
   ]
  },
  {
   "cell_type": "markdown",
   "id": "2d7aba19",
   "metadata": {},
   "source": [
    "## Task 2.2 - Ajustar un modelo logistico plinomial"
   ]
  },
  {
   "cell_type": "code",
   "execution_count": 5,
   "id": "af7c7638",
   "metadata": {},
   "outputs": [],
   "source": [
    "# Normalizar valores\n",
    "for i in range(data.shape[1] - 1):\n",
    "\tdata[:, i] = (data[:, i] - np.mean(data[:, i])) / np.std(data[:, i])\n",
    "# Agregar bias\n",
    "data = np.hstack((np.ones((data.shape[0], 1)), data))\n",
    "\n",
    "train_data = data[:int(0.4*len(data))]\n",
    "cv_data = data[int(0.4*len(data)):int(0.8*len(data))]\n",
    "test_data = data[int(0.8*len(data)):]"
   ]
  },
  {
   "cell_type": "code",
   "execution_count": 7,
   "id": "7485117e",
   "metadata": {},
   "outputs": [
    {
     "data": {
      "image/png": "[encoded data removed]",
      "text/plain": [
       "<Figure size 640x480 with 1 Axes>"
      ]
     },
     "metadata": {},
     "output_type": "display_data"
    }
   ],
   "source": [
    "train_losses = []\n",
    "cv_losses = []\n",
    "\n",
    "for k in range(1,10):\n",
    "\tdata[0] = data[3] ** k\n",
    "\t# J for training data\n",
    "\tX_train = train_data[:, :-1]\n",
    "\ty_train = train_data[:, -1]\n",
    "\ty_train = y_train.reshape(y_train.shape[0], 1)\n",
    "\ttheta = np.zeros((X_train.shape[1], 1))\n",
    "\ttheta = reg.linear_regression(X_train, y_train, theta, 0.05, 0.002)\n",
    "\ty_pred_train = reg.sigmoid(theta, X_train)\n",
    "\ty_pred_train = np.where(y_pred_train > 0.5, 1, 0)\n",
    "\tloss_train = reg.loss(X_train, y_train, theta)\n",
    "\ttrain_losses.append(loss_train * 10)\n",
    "\t# J for cross validation data\n",
    "\tX_cv = cv_data[:, :-1]\n",
    "\ty_cv = cv_data[:, -1]\n",
    "\ty_cv = y_cv.reshape(y_cv.shape[0], 1)\n",
    "\ty_pred_cv = reg.sigmoid(theta, X_cv)\n",
    "\ty_pred_cv = np.where(y_pred_cv > 0.5, 1, 0)\n",
    "\tloss_cv = reg.loss(X_cv, y_cv, theta)\n",
    "\tcv_losses.append(loss_cv * 10)\n",
    "plt.plot(train_losses, label='Training Loss')\n",
    "plt.plot(cv_losses, label='Validation Loss')\n",
    "plt.legend()\n",
    "plt.xlabel(\"Iterations\")\n",
    "plt.show()"
   ]
  },
  {
   "cell_type": "code",
   "execution_count": 8,
   "id": "50db6c25",
   "metadata": {},
   "outputs": [
    {
     "name": "stdout",
     "output_type": "stream",
     "text": [
      "Accuracy for test data:  0.8502358490566038\n",
      "Precision for test data:  0.7\n",
      "Loss for test data:  0.05823279854445635\n"
     ]
    }
   ],
   "source": [
    "best_k = 3\n",
    "\n",
    "data[0] = data[3] ** best_k\n",
    "\n",
    "test_data = data[int(0.8*len(data)):]\n",
    "\n",
    "# J for test data\n",
    "X_test = test_data[:, :-1]\n",
    "y_test = test_data[:, -1]\n",
    "y_test = y_test.reshape(y_test.shape[0], 1)\n",
    "theta = np.zeros((X_test.shape[1], 1))\n",
    "theta = reg.linear_regression(X_test, y_test, theta, 0.05, 0.002)\n",
    "y_pred_test = reg.sigmoid(theta, X_test)\n",
    "y_pred_test = np.where(y_pred_test > 0.5, 1, 0)\n",
    "loss_test = reg.loss(X_test, y_test, theta)\n",
    "accuracy_test = np.sum(y_pred_test == y_test) / len(y_test)\n",
    "precision_test = np.sum(y_pred_test[y_test == 1] == 1) / np.sum(y_pred_test == 1)\n",
    "print(\"Accuracy for test data: \", accuracy_test)\n",
    "print(\"Precision for test data: \", precision_test)\n",
    "print(\"Loss for test data: \", loss_test)"
   ]
  },
  {
   "cell_type": "code",
   "execution_count": null,
   "id": "6b4a8e38",
   "metadata": {},
   "outputs": [],
   "source": []
  }
 ],
 "metadata": {
  "kernelspec": {
   "display_name": "Python 3 (ipykernel)",
   "language": "python",
   "name": "python3"
  },
  "language_info": {
   "codemirror_mode": {
    "name": "ipython",
    "version": 3
   },
   "file_extension": ".py",
   "mimetype": "text/x-python",
   "name": "python",
   "nbconvert_exporter": "python",
   "pygments_lexer": "ipython3",
   "version": "3.11.2"
  }
 },
 "nbformat": 4,
 "nbformat_minor": 5
}
